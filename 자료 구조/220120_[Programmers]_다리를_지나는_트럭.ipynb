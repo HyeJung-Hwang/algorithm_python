{
  "nbformat": 4,
  "nbformat_minor": 0,
  "metadata": {
    "colab": {
      "name": "220120_[Programmers]_다리를 지나는 트럭.ipynb",
      "provenance": [],
      "authorship_tag": "ABX9TyNwEEBhXF8DxSrtr2Coc9P3",
      "include_colab_link": true
    },
    "kernelspec": {
      "name": "python3",
      "display_name": "Python 3"
    },
    "language_info": {
      "name": "python"
    }
  },
  "cells": [
    {
      "cell_type": "markdown",
      "metadata": {
        "id": "view-in-github",
        "colab_type": "text"
      },
      "source": [
        "<a href=\"https://colab.research.google.com/github/HyeJung-Hwang/algorithm_python/blob/main/220120_%5BProgrammers%5D_%EB%8B%A4%EB%A6%AC%EB%A5%BC_%EC%A7%80%EB%82%98%EB%8A%94_%ED%8A%B8%EB%9F%AD.ipynb\" target=\"_parent\"><img src=\"https://colab.research.google.com/assets/colab-badge.svg\" alt=\"Open In Colab\"/></a>"
      ]
    },
    {
      "cell_type": "markdown",
      "source": [
        "문제 풀이"
      ],
      "metadata": {
        "id": "gEo4NRqZGY9U"
      }
    },
    {
      "cell_type": "code",
      "execution_count": 32,
      "metadata": {
        "id": "MpsMlqlPv6D4"
      },
      "outputs": [],
      "source": [
        "def solution(bridge_length, weight, truck_weights):\n",
        "    answer = 0\n",
        "    stackE,queB,stackW = [], [0]*bridge_length,truck_weights\n",
        "    # queB = [0,0]\n",
        "    while True:\n",
        "        # print(answer,stackE,queB,stackW )\n",
        "        # que ( queB )\n",
        "        # q - 앞에서 삭제\n",
        "        try:\n",
        "            stackE.append(queB.pop(0))\n",
        "        except:\n",
        "            break\n",
        "        # q - 뒤에서 삽입\n",
        "        if stackW != []:\n",
        "            if sum(queB) + stackW[0] <= weight:\n",
        "                queB.append(stackW.pop(0))\n",
        "            else:\n",
        "                queB.append(0)\n",
        "        \n",
        "\n",
        "        answer += 1\n",
        "\n",
        "    return answer"
      ]
    },
    {
      "cell_type": "markdown",
      "source": [
        "테스트 케이스"
      ],
      "metadata": {
        "id": "JVdS_hyxGdAY"
      }
    },
    {
      "cell_type": "code",
      "source": [
        "solution(2,\t10,\t[7,4,5,6])\t# 8"
      ],
      "metadata": {
        "colab": {
          "base_uri": "https://localhost:8080/"
        },
        "id": "0HI4St9ewTxQ",
        "outputId": "60546ca6-bb1b-478e-9d6d-e9418a45606f"
      },
      "execution_count": 33,
      "outputs": [
        {
          "output_type": "execute_result",
          "data": {
            "text/plain": [
              "8"
            ]
          },
          "metadata": {},
          "execution_count": 33
        }
      ]
    },
    {
      "cell_type": "code",
      "source": [
        "solution(100,\t100,[10]) #\t101"
      ],
      "metadata": {
        "colab": {
          "base_uri": "https://localhost:8080/"
        },
        "id": "MZ3kG4axwg6k",
        "outputId": "16d26234-ef27-4456-c3a1-508970ac6ef6"
      },
      "execution_count": 34,
      "outputs": [
        {
          "output_type": "execute_result",
          "data": {
            "text/plain": [
              "101"
            ]
          },
          "metadata": {},
          "execution_count": 34
        }
      ]
    },
    {
      "cell_type": "code",
      "source": [
        "solution(100,\t100,\t[10,10,10,10,10,10,10,10,10,10]) #\t110"
      ],
      "metadata": {
        "colab": {
          "base_uri": "https://localhost:8080/"
        },
        "id": "DqiH3eacwiMv",
        "outputId": "d9521fa2-7108-40c3-d798-18810ca94dc9"
      },
      "execution_count": 35,
      "outputs": [
        {
          "output_type": "execute_result",
          "data": {
            "text/plain": [
              "110"
            ]
          },
          "metadata": {},
          "execution_count": 35
        }
      ]
    }
  ]
}
