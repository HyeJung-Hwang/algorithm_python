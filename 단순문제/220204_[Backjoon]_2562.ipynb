{
  "nbformat": 4,
  "nbformat_minor": 0,
  "metadata": {
    "colab": {
      "name": "220204_[Backjoon]_2562.ipynb",
      "private_outputs": true,
      "provenance": []
    },
    "kernelspec": {
      "name": "python3",
      "display_name": "Python 3"
    },
    "language_info": {
      "name": "python"
    }
  },
  "cells": [
    {
      "cell_type": "code",
      "source": [
        "import sys"
      ],
      "metadata": {
        "id": "smFnuQV_s4ii"
      },
      "execution_count": null,
      "outputs": []
    },
    {
      "cell_type": "code",
      "source": [
        "tempIdx = 10\n",
        "tempNum = 0\n",
        "\n",
        "for i in range(9):\n",
        "    \n",
        "    \n",
        "    x = int(sys.stdin.readline())\n",
        "\n",
        "    if tempNum <= x:\n",
        "        tempNum = x\n",
        "        tempIdx = i + 1\n",
        "print(tempNum)   \n",
        "print(tempIdx)"
      ],
      "metadata": {
        "id": "DiNLClP3xX-u"
      },
      "execution_count": null,
      "outputs": []
    }
  ]
}