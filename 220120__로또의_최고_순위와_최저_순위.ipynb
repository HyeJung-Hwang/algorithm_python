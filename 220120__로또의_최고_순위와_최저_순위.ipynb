{
  "nbformat": 4,
  "nbformat_minor": 0,
  "metadata": {
    "colab": {
      "name": "220120_ 로또의 최고 순위와 최저 순위.ipynb",
      "private_outputs": true,
      "provenance": [],
      "authorship_tag": "ABX9TyPLCP+J0crwtIdFVXLhAKJW",
      "include_colab_link": true
    },
    "kernelspec": {
      "name": "python3",
      "display_name": "Python 3"
    },
    "language_info": {
      "name": "python"
    }
  },
  "cells": [
    {
      "cell_type": "markdown",
      "metadata": {
        "id": "view-in-github",
        "colab_type": "text"
      },
      "source": [
        "<a href=\"https://colab.research.google.com/github/HyeJung-Hwang/algorithm_python/blob/main/220120__%EB%A1%9C%EB%98%90%EC%9D%98_%EC%B5%9C%EA%B3%A0_%EC%88%9C%EC%9C%84%EC%99%80_%EC%B5%9C%EC%A0%80_%EC%88%9C%EC%9C%84.ipynb\" target=\"_parent\"><img src=\"https://colab.research.google.com/assets/colab-badge.svg\" alt=\"Open In Colab\"/></a>"
      ]
    },
    {
      "cell_type": "code",
      "execution_count": null,
      "metadata": {
        "id": "X_YGGezfr3h2"
      },
      "outputs": [],
      "source": [
        "def solution(lottos, win_nums):\n",
        "    rankDict = {6:1,5:2,4:3,3:4,2:5,1:6,0:6}\n",
        "    answer = []\n",
        "    ansNum = 0\n",
        "    zeroCnt = 0\n",
        "\n",
        "    for i in lottos:\n",
        "        if i in win_nums:\n",
        "            ansNum += 1\n",
        "        if i == 0:\n",
        "            zeroCnt += 1\n",
        "            \n",
        "    answer.append(rankDict[ansNum + zeroCnt])\n",
        "    answer.append(rankDict[ansNum])\n",
        "    \n",
        "    return answer"
      ]
    },
    {
      "cell_type": "code",
      "source": [
        "solution([44, 1, 0, 0, 31, 25],\t[31, 10, 45, 1, 6, 19])  #\t[3, 5]    고"
      ],
      "metadata": {
        "id": "3ITukw_osd7y"
      },
      "execution_count": null,
      "outputs": []
    },
    {
      "cell_type": "code",
      "source": [
        "solution([0, 0, 0, 0, 0, 0],[38, 19, 20, 40, 15, 25])  # [1, 6]"
      ],
      "metadata": {
        "id": "ZxqfrYSJvier"
      },
      "execution_count": null,
      "outputs": []
    },
    {
      "cell_type": "code",
      "source": [
        "solution([45, 4, 35, 20, 3, 9],\t[20, 9, 3, 45, 4, 35])  # [1, 1]"
      ],
      "metadata": {
        "id": "ttkVY8ySvkbI"
      },
      "execution_count": null,
      "outputs": []
    }
  ]
}