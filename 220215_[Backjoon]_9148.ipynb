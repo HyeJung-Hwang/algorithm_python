{
  "nbformat": 4,
  "nbformat_minor": 0,
  "metadata": {
    "colab": {
      "name": "220215_[Backjoon]_9148.ipynb",
      "private_outputs": true,
      "provenance": [],
      "authorship_tag": "ABX9TyPOSGjkmuHv20DXFd+PpA5W",
      "include_colab_link": true
    },
    "kernelspec": {
      "name": "python3",
      "display_name": "Python 3"
    },
    "language_info": {
      "name": "python"
    }
  },
  "cells": [
    {
      "cell_type": "markdown",
      "metadata": {
        "id": "view-in-github",
        "colab_type": "text"
      },
      "source": [
        "<a href=\"https://colab.research.google.com/github/HyeJung-Hwang/algorithm_python/blob/main/220215_%5BBackjoon%5D_9148.ipynb\" target=\"_parent\"><img src=\"https://colab.research.google.com/assets/colab-badge.svg\" alt=\"Open In Colab\"/></a>"
      ]
    },
    {
      "cell_type": "code",
      "source": [
        "import sys\n",
        "sys.stdin.readline\n",
        "\n",
        "arr = [[[0]*21 for _ in range(21)] for _ in range(21)]\n",
        "\n",
        "def w(a,b,c):\n",
        "    if a<=0 or b<=0 or c<=0:\n",
        "        return 1\n",
        "    if a>20 or b>20 or c>20:\n",
        "        return w(20,20,20)\n",
        "    if arr[a][b][c]:\n",
        "        return arr[a][b][c]\n",
        "    if a<b and b<c:\n",
        "        arr[a][b][c] = w(a,b,c-1)+w(a,b-1,c-1)-w(a,b-1,c)\n",
        "        return arr[a][b][c]\n",
        "    else:\n",
        "        arr[a][b][c] = w(a-1,b,c)+w(a-1,b-1,c)+w(a-1,b,c-1)-w(a-1,b-1,c-1)\n",
        "        return arr[a][b][c]\n",
        "\n",
        "\n",
        "while 1:\n",
        "    a,b,c = map(int,input().split())\n",
        "    res = w(a,b,c)\n",
        "    if a==-1 and b==-1 and c==-1:\n",
        "        break\n",
        "    print(f'w({a}, {b}, {c}) = {res}')"
      ],
      "metadata": {
        "id": "8i0LzJ84nwfX"
      },
      "execution_count": null,
      "outputs": []
    }
  ]
}