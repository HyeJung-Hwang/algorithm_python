{
  "nbformat": 4,
  "nbformat_minor": 0,
  "metadata": {
    "colab": {
      "name": "210826_[Programmers]_가장큰수.ipynb",
      "provenance": [],
      "authorship_tag": "ABX9TyMSymtVSQGJ6p/2YRgh0QSb",
      "include_colab_link": true
    },
    "kernelspec": {
      "name": "python3",
      "display_name": "Python 3"
    },
    "language_info": {
      "name": "python"
    }
  },
  "cells": [
    {
      "cell_type": "markdown",
      "metadata": {
        "id": "view-in-github",
        "colab_type": "text"
      },
      "source": [
        "<a href=\"https://colab.research.google.com/github/HyeJung-Hwang/algorithm_python/blob/main/210826_%5BProgrammers%5D_%EA%B0%80%EC%9E%A5%ED%81%B0%EC%88%98.ipynb\" target=\"_parent\"><img src=\"https://colab.research.google.com/assets/colab-badge.svg\" alt=\"Open In Colab\"/></a>"
      ]
    },
    {
      "cell_type": "markdown",
      "metadata": {
        "id": "QJ6oJih7Hpfd"
      },
      "source": [
        "첫 번째 시도: 8자리 2진수로 형식 맞춰서 구하기(오류)"
      ]
    },
    {
      "cell_type": "code",
      "metadata": {
        "id": "61SThWe3G63Z"
      },
      "source": [
        "def solution(n):\n",
        "    x=format(n,'b').zfill(8)\n",
        "    y=x.count('1')\n",
        "    z=x.find('1')\n",
        "    answer=[0,0,0,0,0,0,0,0]\n",
        "    answer[y]=1\n",
        "    #answer=[0,0,0,1,0,0,0,0] 1뒤에부분 순열?\n",
        "    answer=\"\".join(answer)\n",
        "    return answer"
      ],
      "execution_count": null,
      "outputs": []
    },
    {
      "cell_type": "markdown",
      "metadata": {
        "id": "q-rCchjmJu7_"
      },
      "source": [
        "두 번째 시도: for 문 활용해서 \"다음 큰 수 찾기\""
      ]
    },
    {
      "cell_type": "code",
      "metadata": {
        "id": "p76Ck1aHMIUd"
      },
      "source": [
        "n=78"
      ],
      "execution_count": 16,
      "outputs": []
    },
    {
      "cell_type": "code",
      "metadata": {
        "id": "XzHJ0auuMmNn"
      },
      "source": [
        "x=format(n,'b').zfill(8)\n",
        "y=x.count('1')\n",
        "z=x.find('1')"
      ],
      "execution_count": 17,
      "outputs": []
    },
    {
      "cell_type": "code",
      "metadata": {
        "id": "ocCQ86lmMw9B"
      },
      "source": [
        "answer=[\"0\",\"0\",\"0\",\"0\",\"0\",\"0\",\"0\",\"0\"]\n",
        "answer[z]=\"1\"\n",
        "#answer=[0,0,0,1,0,0,0,0] 1뒤에부분 순열?\n",
        "answer=\"\".join(answer)"
      ],
      "execution_count": 18,
      "outputs": []
    },
    {
      "cell_type": "code",
      "metadata": {
        "id": "5qBDOzMJJ6Dt"
      },
      "source": [
        "for num in (int(\"0b\"+answer[z:],2),1000001):\n",
        "    if str(bin(num)).count('1')==y:\n",
        "        x=num\n",
        "        break"
      ],
      "execution_count": 21,
      "outputs": []
    },
    {
      "cell_type": "markdown",
      "metadata": {
        "id": "YGLaRV38PBnG"
      },
      "source": [
        "세 번째 시도: 형식 안 맞추지 않고"
      ]
    },
    {
      "cell_type": "code",
      "metadata": {
        "id": "z8SwoY2qPkQi"
      },
      "source": [
        "n=78"
      ],
      "execution_count": 24,
      "outputs": []
    },
    {
      "cell_type": "code",
      "metadata": {
        "id": "46137UERPvxR"
      },
      "source": [
        "y=bin(n).count('1')"
      ],
      "execution_count": 27,
      "outputs": []
    },
    {
      "cell_type": "code",
      "metadata": {
        "id": "uKlc1-MOPiPh"
      },
      "source": [
        "for num in range(n+1,1000001):  #시작 숫자가 n이면 x도 num\n",
        "    if bin(num).count('1')==y:\n",
        "        x=num\n",
        "        break"
      ],
      "execution_count": 30,
      "outputs": []
    }
  ]
}